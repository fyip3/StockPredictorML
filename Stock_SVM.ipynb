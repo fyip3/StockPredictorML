{
  "cells": [
    {
      "cell_type": "code",
      "execution_count": null,
      "id": "af25dec7",
      "metadata": {
        "id": "af25dec7",
        "colab": {
          "base_uri": "https://localhost:8080/"
        },
        "outputId": "9d5d2880-4007-4291-c20d-b5b3af082c02"
      },
      "outputs": [
        {
          "output_type": "stream",
          "name": "stdout",
          "text": [
            "Requirement already satisfied: yfinance in /usr/local/lib/python3.10/dist-packages (0.2.21)\n",
            "Requirement already satisfied: pandas>=1.3.0 in /usr/local/lib/python3.10/dist-packages (from yfinance) (1.5.3)\n",
            "Requirement already satisfied: numpy>=1.16.5 in /usr/local/lib/python3.10/dist-packages (from yfinance) (1.22.4)\n",
            "Requirement already satisfied: requests>=2.26 in /usr/local/lib/python3.10/dist-packages (from yfinance) (2.27.1)\n",
            "Requirement already satisfied: multitasking>=0.0.7 in /usr/local/lib/python3.10/dist-packages (from yfinance) (0.0.11)\n",
            "Requirement already satisfied: lxml>=4.9.1 in /usr/local/lib/python3.10/dist-packages (from yfinance) (4.9.2)\n",
            "Requirement already satisfied: appdirs>=1.4.4 in /usr/local/lib/python3.10/dist-packages (from yfinance) (1.4.4)\n",
            "Requirement already satisfied: pytz>=2022.5 in /usr/local/lib/python3.10/dist-packages (from yfinance) (2022.7.1)\n",
            "Requirement already satisfied: frozendict>=2.3.4 in /usr/local/lib/python3.10/dist-packages (from yfinance) (2.3.8)\n",
            "Requirement already satisfied: beautifulsoup4>=4.11.1 in /usr/local/lib/python3.10/dist-packages (from yfinance) (4.11.2)\n",
            "Requirement already satisfied: html5lib>=1.1 in /usr/local/lib/python3.10/dist-packages (from yfinance) (1.1)\n",
            "Requirement already satisfied: soupsieve>1.2 in /usr/local/lib/python3.10/dist-packages (from beautifulsoup4>=4.11.1->yfinance) (2.4.1)\n",
            "Requirement already satisfied: six>=1.9 in /usr/local/lib/python3.10/dist-packages (from html5lib>=1.1->yfinance) (1.16.0)\n",
            "Requirement already satisfied: webencodings in /usr/local/lib/python3.10/dist-packages (from html5lib>=1.1->yfinance) (0.5.1)\n",
            "Requirement already satisfied: python-dateutil>=2.8.1 in /usr/local/lib/python3.10/dist-packages (from pandas>=1.3.0->yfinance) (2.8.2)\n",
            "Requirement already satisfied: urllib3<1.27,>=1.21.1 in /usr/local/lib/python3.10/dist-packages (from requests>=2.26->yfinance) (1.26.16)\n",
            "Requirement already satisfied: certifi>=2017.4.17 in /usr/local/lib/python3.10/dist-packages (from requests>=2.26->yfinance) (2023.5.7)\n",
            "Requirement already satisfied: charset-normalizer~=2.0.0 in /usr/local/lib/python3.10/dist-packages (from requests>=2.26->yfinance) (2.0.12)\n",
            "Requirement already satisfied: idna<4,>=2.5 in /usr/local/lib/python3.10/dist-packages (from requests>=2.26->yfinance) (3.4)\n"
          ]
        }
      ],
      "source": [
        "import pandas as pd\n",
        "import numpy as np\n",
        "import matplotlib.pyplot as plt\n",
        "import seaborn as sns\n",
        "from sklearn.svm import SVC\n",
        "from sklearn.metrics import accuracy_score\n",
        "!pip install yfinance\n",
        "import yfinance as yf\n",
        "\n",
        "\n",
        "import warnings\n",
        "warnings.filterwarnings(\"ignore\")"
      ]
    },
    {
      "cell_type": "code",
      "execution_count": null,
      "id": "ba6249d7",
      "metadata": {
        "id": "ba6249d7"
      },
      "outputs": [],
      "source": [
        "stock = 'awk'"
      ]
    },
    {
      "cell_type": "code",
      "execution_count": null,
      "id": "eda302a4",
      "metadata": {
        "colab": {
          "base_uri": "https://localhost:8080/"
        },
        "id": "eda302a4",
        "outputId": "2ae12f49-c952-4c19-e0f4-2461cb760dce",
        "cellView": "code"
      },
      "outputs": [
        {
          "output_type": "stream",
          "name": "stdout",
          "text": [
            "\r[*********************100%***********************]  1 of 1 completed\n"
          ]
        }
      ],
      "source": [
        "\n",
        "data = yf.download(stock, \"2021-01-01\", \"2022-01-01\", auto_adjust = True)\n"
      ]
    },
    {
      "cell_type": "code",
      "execution_count": null,
      "id": "c63be28e",
      "metadata": {
        "id": "c63be28e",
        "colab": {
          "base_uri": "https://localhost:8080/",
          "height": 455
        },
        "outputId": "64983c90-366a-400b-f58b-75404dc5e153"
      },
      "outputs": [
        {
          "output_type": "execute_result",
          "data": {
            "text/plain": [
              "                           Open-Close  High-Low\n",
              "Date                                           \n",
              "2021-01-04 00:00:00-05:00    3.202992  5.033282\n",
              "2021-01-05 00:00:00-05:00   -0.574394  2.540982\n",
              "2021-01-06 00:00:00-05:00   -0.564664  3.086171\n",
              "2021-01-07 00:00:00-05:00    1.713453  2.725960\n",
              "2021-01-08 00:00:00-05:00   -4.760688  5.714769\n",
              "...                               ...       ...\n",
              "2021-12-27 00:00:00-05:00   -0.345655  2.271414\n",
              "2021-12-28 00:00:00-05:00   -2.370162  2.834336\n",
              "2021-12-29 00:00:00-05:00   -0.878936  2.419543\n",
              "2021-12-30 00:00:00-05:00   -0.898692  2.429414\n",
              "2021-12-31 00:00:00-05:00   -0.849311  2.133140\n",
              "\n",
              "[252 rows x 2 columns]"
            ],
            "text/html": [
              "\n",
              "  <div id=\"df-bad7109c-9f2c-415a-b62b-399cddac454f\">\n",
              "    <div class=\"colab-df-container\">\n",
              "      <div>\n",
              "<style scoped>\n",
              "    .dataframe tbody tr th:only-of-type {\n",
              "        vertical-align: middle;\n",
              "    }\n",
              "\n",
              "    .dataframe tbody tr th {\n",
              "        vertical-align: top;\n",
              "    }\n",
              "\n",
              "    .dataframe thead th {\n",
              "        text-align: right;\n",
              "    }\n",
              "</style>\n",
              "<table border=\"1\" class=\"dataframe\">\n",
              "  <thead>\n",
              "    <tr style=\"text-align: right;\">\n",
              "      <th></th>\n",
              "      <th>Open-Close</th>\n",
              "      <th>High-Low</th>\n",
              "    </tr>\n",
              "    <tr>\n",
              "      <th>Date</th>\n",
              "      <th></th>\n",
              "      <th></th>\n",
              "    </tr>\n",
              "  </thead>\n",
              "  <tbody>\n",
              "    <tr>\n",
              "      <th>2021-01-04 00:00:00-05:00</th>\n",
              "      <td>3.202992</td>\n",
              "      <td>5.033282</td>\n",
              "    </tr>\n",
              "    <tr>\n",
              "      <th>2021-01-05 00:00:00-05:00</th>\n",
              "      <td>-0.574394</td>\n",
              "      <td>2.540982</td>\n",
              "    </tr>\n",
              "    <tr>\n",
              "      <th>2021-01-06 00:00:00-05:00</th>\n",
              "      <td>-0.564664</td>\n",
              "      <td>3.086171</td>\n",
              "    </tr>\n",
              "    <tr>\n",
              "      <th>2021-01-07 00:00:00-05:00</th>\n",
              "      <td>1.713453</td>\n",
              "      <td>2.725960</td>\n",
              "    </tr>\n",
              "    <tr>\n",
              "      <th>2021-01-08 00:00:00-05:00</th>\n",
              "      <td>-4.760688</td>\n",
              "      <td>5.714769</td>\n",
              "    </tr>\n",
              "    <tr>\n",
              "      <th>...</th>\n",
              "      <td>...</td>\n",
              "      <td>...</td>\n",
              "    </tr>\n",
              "    <tr>\n",
              "      <th>2021-12-27 00:00:00-05:00</th>\n",
              "      <td>-0.345655</td>\n",
              "      <td>2.271414</td>\n",
              "    </tr>\n",
              "    <tr>\n",
              "      <th>2021-12-28 00:00:00-05:00</th>\n",
              "      <td>-2.370162</td>\n",
              "      <td>2.834336</td>\n",
              "    </tr>\n",
              "    <tr>\n",
              "      <th>2021-12-29 00:00:00-05:00</th>\n",
              "      <td>-0.878936</td>\n",
              "      <td>2.419543</td>\n",
              "    </tr>\n",
              "    <tr>\n",
              "      <th>2021-12-30 00:00:00-05:00</th>\n",
              "      <td>-0.898692</td>\n",
              "      <td>2.429414</td>\n",
              "    </tr>\n",
              "    <tr>\n",
              "      <th>2021-12-31 00:00:00-05:00</th>\n",
              "      <td>-0.849311</td>\n",
              "      <td>2.133140</td>\n",
              "    </tr>\n",
              "  </tbody>\n",
              "</table>\n",
              "<p>252 rows × 2 columns</p>\n",
              "</div>\n",
              "      <button class=\"colab-df-convert\" onclick=\"convertToInteractive('df-bad7109c-9f2c-415a-b62b-399cddac454f')\"\n",
              "              title=\"Convert this dataframe to an interactive table.\"\n",
              "              style=\"display:none;\">\n",
              "        \n",
              "  <svg xmlns=\"http://www.w3.org/2000/svg\" height=\"24px\"viewBox=\"0 0 24 24\"\n",
              "       width=\"24px\">\n",
              "    <path d=\"M0 0h24v24H0V0z\" fill=\"none\"/>\n",
              "    <path d=\"M18.56 5.44l.94 2.06.94-2.06 2.06-.94-2.06-.94-.94-2.06-.94 2.06-2.06.94zm-11 1L8.5 8.5l.94-2.06 2.06-.94-2.06-.94L8.5 2.5l-.94 2.06-2.06.94zm10 10l.94 2.06.94-2.06 2.06-.94-2.06-.94-.94-2.06-.94 2.06-2.06.94z\"/><path d=\"M17.41 7.96l-1.37-1.37c-.4-.4-.92-.59-1.43-.59-.52 0-1.04.2-1.43.59L10.3 9.45l-7.72 7.72c-.78.78-.78 2.05 0 2.83L4 21.41c.39.39.9.59 1.41.59.51 0 1.02-.2 1.41-.59l7.78-7.78 2.81-2.81c.8-.78.8-2.07 0-2.86zM5.41 20L4 18.59l7.72-7.72 1.47 1.35L5.41 20z\"/>\n",
              "  </svg>\n",
              "      </button>\n",
              "      \n",
              "  <style>\n",
              "    .colab-df-container {\n",
              "      display:flex;\n",
              "      flex-wrap:wrap;\n",
              "      gap: 12px;\n",
              "    }\n",
              "\n",
              "    .colab-df-convert {\n",
              "      background-color: #E8F0FE;\n",
              "      border: none;\n",
              "      border-radius: 50%;\n",
              "      cursor: pointer;\n",
              "      display: none;\n",
              "      fill: #1967D2;\n",
              "      height: 32px;\n",
              "      padding: 0 0 0 0;\n",
              "      width: 32px;\n",
              "    }\n",
              "\n",
              "    .colab-df-convert:hover {\n",
              "      background-color: #E2EBFA;\n",
              "      box-shadow: 0px 1px 2px rgba(60, 64, 67, 0.3), 0px 1px 3px 1px rgba(60, 64, 67, 0.15);\n",
              "      fill: #174EA6;\n",
              "    }\n",
              "\n",
              "    [theme=dark] .colab-df-convert {\n",
              "      background-color: #3B4455;\n",
              "      fill: #D2E3FC;\n",
              "    }\n",
              "\n",
              "    [theme=dark] .colab-df-convert:hover {\n",
              "      background-color: #434B5C;\n",
              "      box-shadow: 0px 1px 3px 1px rgba(0, 0, 0, 0.15);\n",
              "      filter: drop-shadow(0px 1px 2px rgba(0, 0, 0, 0.3));\n",
              "      fill: #FFFFFF;\n",
              "    }\n",
              "  </style>\n",
              "\n",
              "      <script>\n",
              "        const buttonEl =\n",
              "          document.querySelector('#df-bad7109c-9f2c-415a-b62b-399cddac454f button.colab-df-convert');\n",
              "        buttonEl.style.display =\n",
              "          google.colab.kernel.accessAllowed ? 'block' : 'none';\n",
              "\n",
              "        async function convertToInteractive(key) {\n",
              "          const element = document.querySelector('#df-bad7109c-9f2c-415a-b62b-399cddac454f');\n",
              "          const dataTable =\n",
              "            await google.colab.kernel.invokeFunction('convertToInteractive',\n",
              "                                                     [key], {});\n",
              "          if (!dataTable) return;\n",
              "\n",
              "          const docLinkHtml = 'Like what you see? Visit the ' +\n",
              "            '<a target=\"_blank\" href=https://colab.research.google.com/notebooks/data_table.ipynb>data table notebook</a>'\n",
              "            + ' to learn more about interactive tables.';\n",
              "          element.innerHTML = '';\n",
              "          dataTable['output_type'] = 'display_data';\n",
              "          await google.colab.output.renderOutput(dataTable, element);\n",
              "          const docLink = document.createElement('div');\n",
              "          docLink.innerHTML = docLinkHtml;\n",
              "          element.appendChild(docLink);\n",
              "        }\n",
              "      </script>\n",
              "    </div>\n",
              "  </div>\n",
              "  "
            ]
          },
          "metadata": {},
          "execution_count": 8
        }
      ],
      "source": [
        "data['Open-Close'] = data.Open - data.Close\n",
        "data['High-Low'] = data.High - data.Low\n",
        "X = data[['Open-Close', 'High-Low']]\n"
      ]
    },
    {
      "cell_type": "code",
      "execution_count": null,
      "id": "48935e18",
      "metadata": {
        "id": "48935e18"
      },
      "outputs": [],
      "source": [
        "y = np.where(data['Close'].shift(-1) > data['Close'], 1, 0)\n"
      ]
    },
    {
      "cell_type": "code",
      "execution_count": null,
      "id": "0365b9b9",
      "metadata": {
        "id": "0365b9b9"
      },
      "outputs": [],
      "source": [
        "split_percentage = 0.8\n",
        "split = int(split_percentage*len(data))\n",
        "X_train = X[:split]\n",
        "y_train = y[:split]\n",
        "X_test = X[split:]\n",
        "y_test = y[split:]"
      ]
    },
    {
      "cell_type": "code",
      "execution_count": null,
      "id": "9fdc5e2a",
      "metadata": {
        "id": "9fdc5e2a"
      },
      "outputs": [],
      "source": [
        "cls = SVC().fit(X_train, y_train)\n"
      ]
    },
    {
      "cell_type": "code",
      "execution_count": null,
      "id": "01dc5710",
      "metadata": {
        "id": "01dc5710"
      },
      "outputs": [],
      "source": [
        "data['Predicted_Signal'] = cls.predict(X)\n"
      ]
    },
    {
      "cell_type": "code",
      "execution_count": null,
      "id": "ae9673de",
      "metadata": {
        "colab": {
          "base_uri": "https://localhost:8080/"
        },
        "id": "ae9673de",
        "outputId": "1136e80a-0537-43b2-9cc2-a66fe67fcfa1"
      },
      "outputs": [
        {
          "output_type": "stream",
          "name": "stdout",
          "text": [
            "Test Accuracy: 64.71%\n"
          ]
        }
      ],
      "source": [
        "accuracy_test = accuracy_score(y_test, cls.predict(X_test))\n",
        "print('Test Accuracy:{: .2f}%'.format(accuracy_test*100))"
      ]
    },
    {
      "cell_type": "code",
      "execution_count": null,
      "id": "7802a426",
      "metadata": {
        "id": "7802a426"
      },
      "outputs": [],
      "source": [
        "data['Return'] = df.Close.pct_change()\n"
      ]
    },
    {
      "cell_type": "code",
      "execution_count": null,
      "id": "de16b6c5",
      "metadata": {
        "id": "de16b6c5"
      },
      "outputs": [],
      "source": [
        "data['Strategy_Return'] = df.Return *df.Predicted_Signal.shift(1)"
      ]
    },
    {
      "cell_type": "code",
      "execution_count": null,
      "id": "aedaca35",
      "metadata": {
        "id": "aedaca35"
      },
      "outputs": [],
      "source": [
        "data['Cum_Ret'] = df['Return'].cumsum()"
      ]
    },
    {
      "cell_type": "code",
      "execution_count": null,
      "id": "2b4075ac",
      "metadata": {
        "id": "2b4075ac"
      },
      "outputs": [],
      "source": [
        "data['Cum_Strategy'] = df['Strategy_Return'].cumsum()\n"
      ]
    },
    {
      "cell_type": "code",
      "execution_count": null,
      "id": "520b5c59",
      "metadata": {
        "colab": {
          "base_uri": "https://localhost:8080/",
          "height": 282
        },
        "id": "520b5c59",
        "outputId": "c47ff604-f139-4d06-a3db-89ea2f9b3044"
      },
      "outputs": [
        {
          "output_type": "execute_result",
          "data": {
            "text/plain": [
              "[<matplotlib.lines.Line2D at 0x7fef8d94f7d0>]"
            ]
          },
          "metadata": {},
          "execution_count": 916
        },
        {
          "output_type": "display_data",
          "data": {
            "text/plain": [
              "<Figure size 432x288 with 1 Axes>"
            ],
            "image/png": "[encoded data removed]"
          },
          "metadata": {
            "needs_background": "light"
          }
        }
      ],
      "source": [
        "plt.plot(df['Cum_Ret'],color='red')\n",
        "plt.plot(df['Cum_Strategy'],color='blue')"
      ]
    },
    {
      "cell_type": "code",
      "source": [
        "df.Cum_Strategy.iloc[split:].plot(figsize=(10,5))\n",
        "plt.ylabel(\"Strategy Returns (%)\")\n",
        "plt.show()"
      ],
      "metadata": {
        "colab": {
          "base_uri": "https://localhost:8080/",
          "height": 334
        },
        "id": "H2eYLzrISolC",
        "outputId": "b7fcfe1c-5ae7-42d4-fd0d-1ab3912c34b7"
      },
      "id": "H2eYLzrISolC",
      "execution_count": null,
      "outputs": [
        {
          "output_type": "display_data",
          "data": {
            "text/plain": [
              "<Figure size 720x360 with 1 Axes>"
            ],
            "image/png": "[encoded data removed]"
          },
          "metadata": {
            "needs_background": "light"
          }
        }
      ]
    },
    {
      "cell_type": "code",
      "source": [
        "df['Signal'] = np.where(df['Return']> 0, 1, 0)"
      ],
      "metadata": {
        "id": "CsZUBBORM_cN"
      },
      "id": "CsZUBBORM_cN",
      "execution_count": null,
      "outputs": []
    },
    {
      "cell_type": "code",
      "source": [
        "print(df['Cum_Strategy'])"
      ],
      "metadata": {
        "colab": {
          "base_uri": "https://localhost:8080/"
        },
        "id": "2xeiHvSffNAX",
        "outputId": "7a2a535d-002d-4bd5-a64b-d9f8c591b980"
      },
      "id": "2xeiHvSffNAX",
      "execution_count": null,
      "outputs": [
        {
          "output_type": "stream",
          "name": "stdout",
          "text": [
            "Date\n",
            "2021-01-04         NaN\n",
            "2021-01-05    0.005657\n",
            "2021-01-06    0.014063\n",
            "2021-01-07    0.012554\n",
            "2021-01-08    0.044434\n",
            "                ...   \n",
            "2021-12-27    0.331680\n",
            "2021-12-28    0.345624\n",
            "2021-12-29    0.352340\n",
            "2021-12-30    0.355755\n",
            "2021-12-31    0.360169\n",
            "Name: Cum_Strategy, Length: 252, dtype: float64\n"
          ]
        }
      ]
    }
  ],
  "metadata": {
    "kernelspec": {
      "display_name": "Python 3 (ipykernel)",
      "language": "python",
      "name": "python3"
    },
    "language_info": {
      "codemirror_mode": {
        "name": "ipython",
        "version": 3
      },
      "file_extension": ".py",
      "mimetype": "text/x-python",
      "name": "python",
      "nbconvert_exporter": "python",
      "pygments_lexer": "ipython3",
      "version": "3.10.4"
    },
    "colab": {
      "provenance": []
    }
  },
  "nbformat": 4,
  "nbformat_minor": 5
}